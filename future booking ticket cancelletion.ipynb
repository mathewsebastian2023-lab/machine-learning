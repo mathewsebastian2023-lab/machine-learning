{
 "cells": [
  {
   "cell_type": "code",
   "execution_count": 38,
   "id": "8ed2f31f-2e30-486e-b771-9ec838eb20bf",
   "metadata": {},
   "outputs": [
    {
     "name": "stdout",
     "output_type": "stream",
     "text": [
      "dict_keys(['Masters', 'TicketBookings'])\n"
     ]
    },
    {
     "data": {
      "text/html": [
       "<div>\n",
       "<style scoped>\n",
       "    .dataframe tbody tr th:only-of-type {\n",
       "        vertical-align: middle;\n",
       "    }\n",
       "\n",
       "    .dataframe tbody tr th {\n",
       "        vertical-align: top;\n",
       "    }\n",
       "\n",
       "    .dataframe thead th {\n",
       "        text-align: right;\n",
       "    }\n",
       "</style>\n",
       "<table border=\"1\" class=\"dataframe\">\n",
       "  <thead>\n",
       "    <tr style=\"text-align: right;\">\n",
       "      <th></th>\n",
       "      <th>Starting Point</th>\n",
       "      <th>Destination</th>\n",
       "      <th>Booked Before Days</th>\n",
       "      <th>Month of Travel</th>\n",
       "      <th>Number of travellers</th>\n",
       "      <th>Number of previous cancellations</th>\n",
       "      <th>Festival</th>\n",
       "      <th>Class of Train</th>\n",
       "      <th>Class of Ticket</th>\n",
       "      <th>State of Travellers</th>\n",
       "      <th>Weekday of Travel</th>\n",
       "    </tr>\n",
       "  </thead>\n",
       "  <tbody>\n",
       "    <tr>\n",
       "      <th>10584</th>\n",
       "      <td>Bangalore</td>\n",
       "      <td>Mumbai CST</td>\n",
       "      <td>1</td>\n",
       "      <td>November</td>\n",
       "      <td>4</td>\n",
       "      <td>2</td>\n",
       "      <td>NaN</td>\n",
       "      <td>Superfast</td>\n",
       "      <td>Second AC 2 Tier</td>\n",
       "      <td>Goa</td>\n",
       "      <td>Wedensday</td>\n",
       "    </tr>\n",
       "    <tr>\n",
       "      <th>10585</th>\n",
       "      <td>Ernakulam</td>\n",
       "      <td>Ratnagiri</td>\n",
       "      <td>4</td>\n",
       "      <td>January</td>\n",
       "      <td>1</td>\n",
       "      <td>2</td>\n",
       "      <td>NaN</td>\n",
       "      <td>Rajadhani</td>\n",
       "      <td>Second Ordinary</td>\n",
       "      <td>Karnataka</td>\n",
       "      <td>Wedensday</td>\n",
       "    </tr>\n",
       "    <tr>\n",
       "      <th>10586</th>\n",
       "      <td>Kannur</td>\n",
       "      <td>Vasai Road</td>\n",
       "      <td>29</td>\n",
       "      <td>January</td>\n",
       "      <td>6</td>\n",
       "      <td>0</td>\n",
       "      <td>Pongal</td>\n",
       "      <td>Superfast</td>\n",
       "      <td>Second AC 2 Tier</td>\n",
       "      <td>Gujarat</td>\n",
       "      <td>Sunday</td>\n",
       "    </tr>\n",
       "    <tr>\n",
       "      <th>10587</th>\n",
       "      <td>Ernakulam</td>\n",
       "      <td>Roha</td>\n",
       "      <td>23</td>\n",
       "      <td>January</td>\n",
       "      <td>6</td>\n",
       "      <td>1</td>\n",
       "      <td>Pongal</td>\n",
       "      <td>Express</td>\n",
       "      <td>Second AC 3 Tier</td>\n",
       "      <td>Tamilnadu</td>\n",
       "      <td>Sunday</td>\n",
       "    </tr>\n",
       "    <tr>\n",
       "      <th>10588</th>\n",
       "      <td>Mookambika Road</td>\n",
       "      <td>Bangalore</td>\n",
       "      <td>28</td>\n",
       "      <td>January</td>\n",
       "      <td>2</td>\n",
       "      <td>0</td>\n",
       "      <td>Pongal</td>\n",
       "      <td>Jan Satabdi</td>\n",
       "      <td>Second AC 3 Tier</td>\n",
       "      <td>Gujarat</td>\n",
       "      <td>Monday</td>\n",
       "    </tr>\n",
       "  </tbody>\n",
       "</table>\n",
       "</div>"
      ],
      "text/plain": [
       "        Starting Point Destination  Booked Before Days Month of Travel  \\\n",
       "10584        Bangalore  Mumbai CST                   1        November   \n",
       "10585        Ernakulam   Ratnagiri                   4         January   \n",
       "10586           Kannur  Vasai Road                  29         January   \n",
       "10587        Ernakulam        Roha                  23         January   \n",
       "10588  Mookambika Road   Bangalore                  28         January   \n",
       "\n",
       "       Number of travellers  Number of previous cancellations Festival  \\\n",
       "10584                     4                                 2      NaN   \n",
       "10585                     1                                 2      NaN   \n",
       "10586                     6                                 0   Pongal   \n",
       "10587                     6                                 1   Pongal   \n",
       "10588                     2                                 0   Pongal   \n",
       "\n",
       "      Class of Train   Class of Ticket State of Travellers Weekday of Travel  \n",
       "10584      Superfast  Second AC 2 Tier                 Goa         Wedensday  \n",
       "10585      Rajadhani   Second Ordinary           Karnataka         Wedensday  \n",
       "10586      Superfast  Second AC 2 Tier             Gujarat            Sunday  \n",
       "10587        Express  Second AC 3 Tier           Tamilnadu            Sunday  \n",
       "10588    Jan Satabdi  Second AC 3 Tier             Gujarat            Monday  "
      ]
     },
     "execution_count": 38,
     "metadata": {},
     "output_type": "execute_result"
    }
   ],
   "source": [
    "import pandas as pd\n",
    "df_dict = pd.read_excel(\"FutureBookings.xlsx\", sheet_name=None) \n",
    "print(df_dict.keys())  \n",
    "new_df = df_dict['TicketBookings']\n",
    "new_df.tail() "
   ]
  },
  {
   "cell_type": "code",
   "execution_count": 44,
   "id": "f5176a37-6f40-412b-a7d8-42b3493d7828",
   "metadata": {
    "scrolled": true
   },
   "outputs": [
    {
     "data": {
      "text/plain": [
       "(10589, 12)"
      ]
     },
     "execution_count": 44,
     "metadata": {},
     "output_type": "execute_result"
    }
   ],
   "source": [
    "new_df.shape"
   ]
  },
  {
   "cell_type": "code",
   "execution_count": 45,
   "id": "8582c0f0-1640-4611-8455-de2473e74b62",
   "metadata": {},
   "outputs": [
    {
     "name": "stdout",
     "output_type": "stream",
     "text": [
      "      Month of Travel Class of Train State of Travellers  \\\n",
      "0             October    Jan Satabdi           Tamilnadu   \n",
      "1             January      Rajadhani                 Goa   \n",
      "2            December     Garib Rath             Gujarat   \n",
      "3            November        Express              Kerala   \n",
      "4            December    Jan Satabdi           Tamilnadu   \n",
      "...               ...            ...                 ...   \n",
      "10584        November      Superfast                 Goa   \n",
      "10585         January      Rajadhani           Karnataka   \n",
      "10586         January      Superfast             Gujarat   \n",
      "10587         January        Express           Tamilnadu   \n",
      "10588         January    Jan Satabdi             Gujarat   \n",
      "\n",
      "      Predicted Cancellation  \n",
      "0              Not Cancelled  \n",
      "1              Not Cancelled  \n",
      "2              Not Cancelled  \n",
      "3              Not Cancelled  \n",
      "4                  Cancelled  \n",
      "...                      ...  \n",
      "10584          Not Cancelled  \n",
      "10585          Not Cancelled  \n",
      "10586          Not Cancelled  \n",
      "10587          Not Cancelled  \n",
      "10588          Not Cancelled  \n",
      "\n",
      "[10589 rows x 4 columns]\n"
     ]
    }
   ],
   "source": [
    "import pickle\n",
    "import pandas as pd\n",
    "from sklearn.preprocessing import StandardScaler\n",
    "scaler = StandardScaler()\n",
    "\n",
    "with open(\"model_ticket.pkl\", \"rb\") as f:\n",
    "    model = pickle.load(f)\n",
    "\n",
    "with open(\"model_columns_of_ticket.pkl\", \"rb\") as f:\n",
    "    model_columns = pickle.load(f)\n",
    "\n",
    "with open(\"scaler_of_ticket.pkl\", \"rb\") as f:\n",
    "    scaler = pickle.load(f)\n",
    "\n",
    "\n",
    "#new_df = pd.read_excel(\"FutureBookings.xlsx\")\n",
    "\n",
    "for col in [\"Month of Travel\", \"Class of Train\", \"State of Travellers\"]:\n",
    "    new_df[col] = new_df[col].fillna(new_df[col].mode()[0])\n",
    "\n",
    "\n",
    "new_encoded = pd.get_dummies(new_df[[\"Month of Travel\", \"Class of Train\", \"State of Travellers\"]])\n",
    "\n",
    "\n",
    "new_encoded = new_encoded.reindex(columns=model_columns, fill_value=0)\n",
    "\n",
    "\n",
    "new_scaled = scaler.transform(new_encoded)\n",
    "predictions = model.predict(new_scaled)\n",
    "\n",
    "\n",
    "new_df[\"Predicted Cancellation\"] = [\"Cancelled\" if p == 1 else \"Not Cancelled\" for p in predictions]\n",
    "\n",
    "\n",
    "print(new_df[[\"Month of Travel\", \"Class of Train\", \"State of Travellers\", \"Predicted Cancellation\"]])\n"
   ]
  },
  {
   "cell_type": "code",
   "execution_count": 40,
   "id": "6f9569ab-1bad-4b70-b654-d29f5fdd41b9",
   "metadata": {
    "scrolled": true
   },
   "outputs": [
    {
     "data": {
      "text/html": [
       "<div>\n",
       "<style scoped>\n",
       "    .dataframe tbody tr th:only-of-type {\n",
       "        vertical-align: middle;\n",
       "    }\n",
       "\n",
       "    .dataframe tbody tr th {\n",
       "        vertical-align: top;\n",
       "    }\n",
       "\n",
       "    .dataframe thead th {\n",
       "        text-align: right;\n",
       "    }\n",
       "</style>\n",
       "<table border=\"1\" class=\"dataframe\">\n",
       "  <thead>\n",
       "    <tr style=\"text-align: right;\">\n",
       "      <th></th>\n",
       "      <th>Starting Point</th>\n",
       "      <th>Destination</th>\n",
       "      <th>Booked Before Days</th>\n",
       "      <th>Month of Travel</th>\n",
       "      <th>Number of travellers</th>\n",
       "      <th>Number of previous cancellations</th>\n",
       "      <th>Festival</th>\n",
       "      <th>Class of Train</th>\n",
       "      <th>Class of Ticket</th>\n",
       "      <th>State of Travellers</th>\n",
       "      <th>Weekday of Travel</th>\n",
       "      <th>Predicted Cancellation</th>\n",
       "    </tr>\n",
       "  </thead>\n",
       "  <tbody>\n",
       "    <tr>\n",
       "      <th>4</th>\n",
       "      <td>Alappuzha</td>\n",
       "      <td>Bhatkal</td>\n",
       "      <td>19</td>\n",
       "      <td>December</td>\n",
       "      <td>7</td>\n",
       "      <td>3</td>\n",
       "      <td>NaN</td>\n",
       "      <td>Jan Satabdi</td>\n",
       "      <td>Second AC 3 Tier</td>\n",
       "      <td>Tamilnadu</td>\n",
       "      <td>Friday</td>\n",
       "      <td>Cancelled</td>\n",
       "    </tr>\n",
       "    <tr>\n",
       "      <th>7</th>\n",
       "      <td>Thivim</td>\n",
       "      <td>Kottayam</td>\n",
       "      <td>20</td>\n",
       "      <td>December</td>\n",
       "      <td>5</td>\n",
       "      <td>0</td>\n",
       "      <td>NaN</td>\n",
       "      <td>Rajadhani</td>\n",
       "      <td>Second AC 3 Tier</td>\n",
       "      <td>Maharashtra</td>\n",
       "      <td>Thursday</td>\n",
       "      <td>Cancelled</td>\n",
       "    </tr>\n",
       "    <tr>\n",
       "      <th>13</th>\n",
       "      <td>Udupi</td>\n",
       "      <td>Kumta</td>\n",
       "      <td>8</td>\n",
       "      <td>December</td>\n",
       "      <td>6</td>\n",
       "      <td>3</td>\n",
       "      <td>Christmas</td>\n",
       "      <td>Express</td>\n",
       "      <td>Second AC Economy</td>\n",
       "      <td>Kerala</td>\n",
       "      <td>Tuesday</td>\n",
       "      <td>Cancelled</td>\n",
       "    </tr>\n",
       "    <tr>\n",
       "      <th>25</th>\n",
       "      <td>Mumbai LTT</td>\n",
       "      <td>Kottayam</td>\n",
       "      <td>41</td>\n",
       "      <td>November</td>\n",
       "      <td>1</td>\n",
       "      <td>3</td>\n",
       "      <td>Pongal</td>\n",
       "      <td>Rajadhani</td>\n",
       "      <td>Second AC 3 Tier</td>\n",
       "      <td>Kerala</td>\n",
       "      <td>Sunday</td>\n",
       "      <td>Cancelled</td>\n",
       "    </tr>\n",
       "    <tr>\n",
       "      <th>31</th>\n",
       "      <td>Tirur</td>\n",
       "      <td>Ernakulam</td>\n",
       "      <td>52</td>\n",
       "      <td>December</td>\n",
       "      <td>6</td>\n",
       "      <td>1</td>\n",
       "      <td>NaN</td>\n",
       "      <td>Rajadhani</td>\n",
       "      <td>Second AC 3 Tier</td>\n",
       "      <td>Maharashtra</td>\n",
       "      <td>Wedensday</td>\n",
       "      <td>Cancelled</td>\n",
       "    </tr>\n",
       "  </tbody>\n",
       "</table>\n",
       "</div>"
      ],
      "text/plain": [
       "   Starting Point Destination  Booked Before Days Month of Travel  \\\n",
       "4       Alappuzha     Bhatkal                  19        December   \n",
       "7          Thivim    Kottayam                  20        December   \n",
       "13          Udupi       Kumta                   8        December   \n",
       "25     Mumbai LTT    Kottayam                  41        November   \n",
       "31          Tirur   Ernakulam                  52        December   \n",
       "\n",
       "    Number of travellers  Number of previous cancellations   Festival  \\\n",
       "4                      7                                 3        NaN   \n",
       "7                      5                                 0        NaN   \n",
       "13                     6                                 3  Christmas   \n",
       "25                     1                                 3     Pongal   \n",
       "31                     6                                 1        NaN   \n",
       "\n",
       "   Class of Train    Class of Ticket State of Travellers Weekday of Travel  \\\n",
       "4     Jan Satabdi   Second AC 3 Tier           Tamilnadu            Friday   \n",
       "7       Rajadhani   Second AC 3 Tier         Maharashtra          Thursday   \n",
       "13        Express  Second AC Economy              Kerala           Tuesday   \n",
       "25      Rajadhani   Second AC 3 Tier              Kerala            Sunday   \n",
       "31      Rajadhani   Second AC 3 Tier         Maharashtra         Wedensday   \n",
       "\n",
       "   Predicted Cancellation  \n",
       "4               Cancelled  \n",
       "7               Cancelled  \n",
       "13              Cancelled  \n",
       "25              Cancelled  \n",
       "31              Cancelled  "
      ]
     },
     "execution_count": 40,
     "metadata": {},
     "output_type": "execute_result"
    }
   ],
   "source": [
    "b = new_df[new_df['Predicted Cancellation'] == 'Cancelled']\n",
    "b.head()"
   ]
  },
  {
   "cell_type": "code",
   "execution_count": 41,
   "id": "3110b933-618b-4773-805e-51402a7f4893",
   "metadata": {},
   "outputs": [
    {
     "data": {
      "text/html": [
       "<div>\n",
       "<style scoped>\n",
       "    .dataframe tbody tr th:only-of-type {\n",
       "        vertical-align: middle;\n",
       "    }\n",
       "\n",
       "    .dataframe tbody tr th {\n",
       "        vertical-align: top;\n",
       "    }\n",
       "\n",
       "    .dataframe thead th {\n",
       "        text-align: right;\n",
       "    }\n",
       "</style>\n",
       "<table border=\"1\" class=\"dataframe\">\n",
       "  <thead>\n",
       "    <tr style=\"text-align: right;\">\n",
       "      <th></th>\n",
       "      <th>Starting Point</th>\n",
       "      <th>Destination</th>\n",
       "      <th>Booked Before Days</th>\n",
       "      <th>Month of Travel</th>\n",
       "      <th>Number of travellers</th>\n",
       "      <th>Number of previous cancellations</th>\n",
       "      <th>Festival</th>\n",
       "      <th>Class of Train</th>\n",
       "      <th>Class of Ticket</th>\n",
       "      <th>State of Travellers</th>\n",
       "      <th>Weekday of Travel</th>\n",
       "      <th>Predicted Cancellation</th>\n",
       "    </tr>\n",
       "  </thead>\n",
       "  <tbody>\n",
       "    <tr>\n",
       "      <th>0</th>\n",
       "      <td>Chiplun</td>\n",
       "      <td>Mookambika Road</td>\n",
       "      <td>19</td>\n",
       "      <td>October</td>\n",
       "      <td>3</td>\n",
       "      <td>1</td>\n",
       "      <td>Christmas</td>\n",
       "      <td>Jan Satabdi</td>\n",
       "      <td>First AC Coupe</td>\n",
       "      <td>Tamilnadu</td>\n",
       "      <td>Thursday</td>\n",
       "      <td>Not Cancelled</td>\n",
       "    </tr>\n",
       "    <tr>\n",
       "      <th>1</th>\n",
       "      <td>Madgaon</td>\n",
       "      <td>Panvel</td>\n",
       "      <td>55</td>\n",
       "      <td>January</td>\n",
       "      <td>4</td>\n",
       "      <td>1</td>\n",
       "      <td>NaN</td>\n",
       "      <td>Rajadhani</td>\n",
       "      <td>Second AC 2 Tier</td>\n",
       "      <td>Goa</td>\n",
       "      <td>Wedensday</td>\n",
       "      <td>Not Cancelled</td>\n",
       "    </tr>\n",
       "    <tr>\n",
       "      <th>2</th>\n",
       "      <td>Kannur</td>\n",
       "      <td>Thrissur</td>\n",
       "      <td>22</td>\n",
       "      <td>December</td>\n",
       "      <td>4</td>\n",
       "      <td>1</td>\n",
       "      <td>NaN</td>\n",
       "      <td>Garib Rath</td>\n",
       "      <td>First AC Coupe</td>\n",
       "      <td>Gujarat</td>\n",
       "      <td>Saturday</td>\n",
       "      <td>Not Cancelled</td>\n",
       "    </tr>\n",
       "    <tr>\n",
       "      <th>3</th>\n",
       "      <td>Kozhikkode</td>\n",
       "      <td>Thivim</td>\n",
       "      <td>52</td>\n",
       "      <td>November</td>\n",
       "      <td>6</td>\n",
       "      <td>0</td>\n",
       "      <td>Pongal</td>\n",
       "      <td>Express</td>\n",
       "      <td>First AC</td>\n",
       "      <td>Kerala</td>\n",
       "      <td>Saturday</td>\n",
       "      <td>Not Cancelled</td>\n",
       "    </tr>\n",
       "    <tr>\n",
       "      <th>5</th>\n",
       "      <td>Kottayam</td>\n",
       "      <td>Kollam</td>\n",
       "      <td>17</td>\n",
       "      <td>November</td>\n",
       "      <td>7</td>\n",
       "      <td>2</td>\n",
       "      <td>Christmas</td>\n",
       "      <td>Express</td>\n",
       "      <td>First AC Coupe</td>\n",
       "      <td>Karnataka</td>\n",
       "      <td>Wedensday</td>\n",
       "      <td>Not Cancelled</td>\n",
       "    </tr>\n",
       "  </tbody>\n",
       "</table>\n",
       "</div>"
      ],
      "text/plain": [
       "  Starting Point      Destination  Booked Before Days Month of Travel  \\\n",
       "0        Chiplun  Mookambika Road                  19         October   \n",
       "1        Madgaon           Panvel                  55         January   \n",
       "2         Kannur         Thrissur                  22        December   \n",
       "3     Kozhikkode           Thivim                  52        November   \n",
       "5       Kottayam           Kollam                  17        November   \n",
       "\n",
       "   Number of travellers  Number of previous cancellations   Festival  \\\n",
       "0                     3                                 1  Christmas   \n",
       "1                     4                                 1        NaN   \n",
       "2                     4                                 1        NaN   \n",
       "3                     6                                 0     Pongal   \n",
       "5                     7                                 2  Christmas   \n",
       "\n",
       "  Class of Train   Class of Ticket State of Travellers Weekday of Travel  \\\n",
       "0    Jan Satabdi    First AC Coupe           Tamilnadu          Thursday   \n",
       "1      Rajadhani  Second AC 2 Tier                 Goa         Wedensday   \n",
       "2     Garib Rath    First AC Coupe             Gujarat          Saturday   \n",
       "3        Express          First AC              Kerala          Saturday   \n",
       "5        Express    First AC Coupe           Karnataka         Wedensday   \n",
       "\n",
       "  Predicted Cancellation  \n",
       "0          Not Cancelled  \n",
       "1          Not Cancelled  \n",
       "2          Not Cancelled  \n",
       "3          Not Cancelled  \n",
       "5          Not Cancelled  "
      ]
     },
     "execution_count": 41,
     "metadata": {},
     "output_type": "execute_result"
    }
   ],
   "source": [
    "c = new_df[new_df['Predicted Cancellation'] == 'Not Cancelled']\n",
    "c.head()"
   ]
  },
  {
   "cell_type": "code",
   "execution_count": 42,
   "id": "115124e8-c1d8-4c99-9433-d383b90eda62",
   "metadata": {},
   "outputs": [
    {
     "data": {
      "text/plain": [
       "(1590, 12)"
      ]
     },
     "execution_count": 42,
     "metadata": {},
     "output_type": "execute_result"
    }
   ],
   "source": [
    "b.shape"
   ]
  },
  {
   "cell_type": "code",
   "execution_count": 43,
   "id": "4c472ea7-52ca-4524-a200-fd7e6913c550",
   "metadata": {
    "scrolled": true
   },
   "outputs": [
    {
     "data": {
      "text/plain": [
       "(8999, 12)"
      ]
     },
     "execution_count": 43,
     "metadata": {},
     "output_type": "execute_result"
    }
   ],
   "source": [
    "c.shape"
   ]
  },
  {
   "cell_type": "code",
   "execution_count": 46,
   "id": "153af95b-ff12-456f-b773-bf93747651c1",
   "metadata": {},
   "outputs": [],
   "source": [
    "sample = pd.DataFrame({\n",
    "    \"Month of Travel\": [\"July\"],\n",
    "    \"Class of Train\": [\"Jan Satabdi\"],\n",
    "    \"State of Travellers\": [\"Tamilnadu\"]\n",
    "})\n"
   ]
  },
  {
   "cell_type": "code",
   "execution_count": 47,
   "id": "2fc1c2ab-5450-4402-9f76-871eaaac00d8",
   "metadata": {},
   "outputs": [
    {
     "name": "stdout",
     "output_type": "stream",
     "text": [
      "Prediction: Cancelled\n"
     ]
    }
   ],
   "source": [
    "sample_encoded = pd.get_dummies(sample)\n",
    "sample_encoded = sample_encoded.reindex(columns=new_encoded.columns, fill_value=0)\n",
    "sample_scaled = scaler.transform(sample_encoded)\n",
    "\n",
    "predictions = model.predict(sample_scaled)\n",
    "print(\"Prediction:\", \"Cancelled\" if predictions[0] == 1 else \"Not Cancelled\")"
   ]
  },
  {
   "cell_type": "code",
   "execution_count": 50,
   "id": "a4e3203c-04d7-485d-8beb-0166f1209022",
   "metadata": {},
   "outputs": [],
   "source": [
    "def predict_ticket_cancellation(month, train_class, state):\n",
    "    import pandas as pd\n",
    "\n",
    "    sample = pd.DataFrame({\n",
    "        \"Month of Travel\": [month],\n",
    "        \"Class of Train\": [train_class],\n",
    "        \"State of Travellers\": [state]\n",
    "    })\n",
    "\n",
    "    sample_encoded = pd.get_dummies(sample)\n",
    "    sample_encoded = sample_encoded.reindex(columns=new_encoded.columns, fill_value=0)\n",
    "\n",
    "    sample_scaled = scaler.transform(sample_encoded)\n",
    "\n",
    "    prediction = model.predict(sample_scaled)\n",
    "    return \"Cancelled\" if prediction[0] == 1 else \"Not Cancelled\"\n"
   ]
  },
  {
   "cell_type": "code",
   "execution_count": 51,
   "id": "08531de2-25d9-4c57-8e48-5e32cadc826a",
   "metadata": {},
   "outputs": [
    {
     "data": {
      "text/plain": [
       "'Cancelled'"
      ]
     },
     "execution_count": 51,
     "metadata": {},
     "output_type": "execute_result"
    }
   ],
   "source": [
    "predict_ticket_cancellation(\"July\", \"Jan Satabdi\",\"Tamilnadu\")"
   ]
  },
  {
   "cell_type": "code",
   "execution_count": 52,
   "id": "63100bb0-c741-4802-8eb6-f73e5b0aea1e",
   "metadata": {},
   "outputs": [
    {
     "data": {
      "text/plain": [
       "'Not Cancelled'"
      ]
     },
     "execution_count": 52,
     "metadata": {},
     "output_type": "execute_result"
    }
   ],
   "source": [
    "predict_ticket_cancellation(\"October\", \"Jan Satabdi\",\"Tamilnadu\")"
   ]
  },
  {
   "cell_type": "code",
   "execution_count": 53,
   "id": "fb0608dd-fe25-42df-970a-c3d85614995d",
   "metadata": {},
   "outputs": [
    {
     "data": {
      "text/plain": [
       "'Cancelled'"
      ]
     },
     "execution_count": 53,
     "metadata": {},
     "output_type": "execute_result"
    }
   ],
   "source": [
    "predict_ticket_cancellation(\"December\", \"Rajadhani\",\"Maharashtra\")"
   ]
  }
 ],
 "metadata": {
  "kernelspec": {
   "display_name": "Python 3 (ipykernel)",
   "language": "python",
   "name": "python3"
  },
  "language_info": {
   "codemirror_mode": {
    "name": "ipython",
    "version": 3
   },
   "file_extension": ".py",
   "mimetype": "text/x-python",
   "name": "python",
   "nbconvert_exporter": "python",
   "pygments_lexer": "ipython3",
   "version": "3.13.5"
  }
 },
 "nbformat": 4,
 "nbformat_minor": 5
}
