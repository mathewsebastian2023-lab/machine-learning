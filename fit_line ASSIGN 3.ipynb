{
 "cells": [
  {
   "cell_type": "code",
   "execution_count": 1,
   "id": "28eeb30a-e7b3-46aa-ae1e-cf41ad5a3b59",
   "metadata": {},
   "outputs": [],
   "source": [
    "import pandas as pd\n",
    "import numpy as np"
   ]
  },
  {
   "cell_type": "code",
   "execution_count": 5,
   "id": "8d02d3c1-9bfb-42da-9002-8637ef277d40",
   "metadata": {},
   "outputs": [],
   "source": [
    "def gradient_descent(x,y):\n",
    "    m_curr = b_curr = 0\n",
    "    iterations = 10\n",
    "    n = len(x)\n",
    "    learning_rate=0.001\n",
    "\n",
    "    for i in range(iterations):\n",
    "        y_predicted = m_curr * x + b_curr\n",
    "        cost = (1/n) * sum((y - y_predicted)**2)\n",
    "        md = -(2/n)*sum(x*(y-y_predicted))\n",
    "        bd = -(2/n)*sum(y-y_predicted)\n",
    "        m_curr = m_curr - learning_rate * md\n",
    "        b_curr = b_curr - learning_rate * bd\n",
    "        print(\" m {} , b{} , cost{} iterations{}\".format(m_curr,b_curr,cost,i))\n",
    "\n",
    "x = np.array([1,2,3,4,5])\n",
    "y = np.array([5,7,9,11,13])\n"
   ]
  },
  {
   "cell_type": "code",
   "execution_count": 6,
   "id": "ca9523f9-595b-4838-8369-5e1599e16ca4",
   "metadata": {},
   "outputs": [],
   "source": [
    "import numpy as np\n",
    "\n",
    "def gradient_descent(x, y, iterations=1000, learning_rate=0.01):\n",
    "    m = b = 0\n",
    "    n = len(x)\n",
    "\n",
    "    for i in range(iterations):\n",
    "        y_pred = m * x + b\n",
    "        cost = (1/n) * sum((y - y_pred)**2)\n",
    "        md = -(2/n) * sum(x * (y - y_pred))\n",
    "        bd = -(2/n) * sum(y - y_pred)\n",
    "        m = m - learning_rate * md\n",
    "        b = b - learning_rate * bd\n",
    "\n",
    "        if i % 100 == 0:  # Print every 100 iterations\n",
    "            print(f\"Iteration {i}: m = {m:.4f}, b = {b:.4f}, cost = {cost:.4f}\")\n",
    "\n",
    "    return m, b\n"
   ]
  },
  {
   "cell_type": "code",
   "execution_count": 7,
   "id": "70934daa-19b8-4e0c-bceb-88677ea1b6bc",
   "metadata": {},
   "outputs": [
    {
     "name": "stdout",
     "output_type": "stream",
     "text": [
      "Slope (m): 2.0000, Intercept (b): 3.0000\n"
     ]
    }
   ],
   "source": [
    "from sklearn.linear_model import LinearRegression\n",
    "import numpy as np\n",
    "\n",
    "# Sample data\n",
    "x = np.array([1, 2, 3, 4, 5]).reshape(-1, 1)\n",
    "y = np.array([5, 7, 9, 11, 13])\n",
    "\n",
    "# Create and fit the model\n",
    "model = LinearRegression()\n",
    "model.fit(x, y)\n",
    "\n",
    "# Get parameters\n",
    "m = model.coef_[0]\n",
    "b = model.intercept_\n",
    "\n",
    "print(f\"Slope (m): {m:.4f}, Intercept (b): {b:.4f}\")\n"
   ]
  }
 ],
 "metadata": {
  "kernelspec": {
   "display_name": "Python 3 (ipykernel)",
   "language": "python",
   "name": "python3"
  },
  "language_info": {
   "codemirror_mode": {
    "name": "ipython",
    "version": 3
   },
   "file_extension": ".py",
   "mimetype": "text/x-python",
   "name": "python",
   "nbconvert_exporter": "python",
   "pygments_lexer": "ipython3",
   "version": "3.13.5"
  }
 },
 "nbformat": 4,
 "nbformat_minor": 5
}
